{
 "cells": [
  {
   "cell_type": "code",
   "execution_count": 4,
   "id": "9cf8adbd",
   "metadata": {},
   "outputs": [],
   "source": [
    "import pandas as pd\n",
    "import matplotlib.pyplot as plt\n",
    "import json\n",
    "import ast\n",
    "import datetime\n",
    "get_ipython().run_line_magic('matplotlib', 'inline')\n",
    "\n",
    "pd.options.display.max_rows = 60\n",
    "pd.options.display.max_columns = 30\n",
    "pd.options.display.width = 100\n",
    "pd.options.mode.chained_assignment = None\n",
    "\n",
    "path = '.'\n",
    "df1 = pd.read_csv(path+'/data/budverse-cans-heritage-edition.csv')\n",
    "\n",
    "\n"
   ]
  },
  {
   "cell_type": "code",
   "execution_count": 8,
   "id": "930872dd",
   "metadata": {
    "scrolled": true
   },
   "outputs": [
    {
     "data": {
      "text/html": [
       "<div>\n",
       "<style scoped>\n",
       "    .dataframe tbody tr th:only-of-type {\n",
       "        vertical-align: middle;\n",
       "    }\n",
       "\n",
       "    .dataframe tbody tr th {\n",
       "        vertical-align: top;\n",
       "    }\n",
       "\n",
       "    .dataframe thead th {\n",
       "        text-align: right;\n",
       "    }\n",
       "</style>\n",
       "<table border=\"1\" class=\"dataframe\">\n",
       "  <thead>\n",
       "    <tr style=\"text-align: right;\">\n",
       "      <th></th>\n",
       "      <th>token_id</th>\n",
       "      <th>permalink</th>\n",
       "      <th>last_sale_usd</th>\n",
       "      <th>last_sale_eth</th>\n",
       "      <th>top_bid</th>\n",
       "      <th>num_sales</th>\n",
       "    </tr>\n",
       "  </thead>\n",
       "  <tbody>\n",
       "    <tr>\n",
       "      <th>1572</th>\n",
       "      <td>701</td>\n",
       "      <td>https://opensea.io/assets/0xd6f4a923e2ecd9ab73...</td>\n",
       "      <td>3823.7</td>\n",
       "      <td>1.0</td>\n",
       "      <td>0</td>\n",
       "      <td>7</td>\n",
       "    </tr>\n",
       "    <tr>\n",
       "      <th>1638</th>\n",
       "      <td>761</td>\n",
       "      <td>https://opensea.io/assets/0xd6f4a923e2ecd9ab73...</td>\n",
       "      <td>3823.7</td>\n",
       "      <td>1.0</td>\n",
       "      <td>0</td>\n",
       "      <td>6</td>\n",
       "    </tr>\n",
       "    <tr>\n",
       "      <th>95</th>\n",
       "      <td>1084</td>\n",
       "      <td>https://opensea.io/assets/0xd6f4a923e2ecd9ab73...</td>\n",
       "      <td>3823.7</td>\n",
       "      <td>1.0</td>\n",
       "      <td>0</td>\n",
       "      <td>5</td>\n",
       "    </tr>\n",
       "    <tr>\n",
       "      <th>469</th>\n",
       "      <td>1431</td>\n",
       "      <td>https://opensea.io/assets/0xd6f4a923e2ecd9ab73...</td>\n",
       "      <td>3823.7</td>\n",
       "      <td>1.0</td>\n",
       "      <td>0</td>\n",
       "      <td>5</td>\n",
       "    </tr>\n",
       "    <tr>\n",
       "      <th>801</th>\n",
       "      <td>1731</td>\n",
       "      <td>https://opensea.io/assets/0xd6f4a923e2ecd9ab73...</td>\n",
       "      <td>3823.7</td>\n",
       "      <td>1.0</td>\n",
       "      <td>0</td>\n",
       "      <td>5</td>\n",
       "    </tr>\n",
       "  </tbody>\n",
       "</table>\n",
       "</div>"
      ],
      "text/plain": [
       "      token_id                                          permalink  last_sale_usd  last_sale_eth  \\\n",
       "1572       701  https://opensea.io/assets/0xd6f4a923e2ecd9ab73...         3823.7            1.0   \n",
       "1638       761  https://opensea.io/assets/0xd6f4a923e2ecd9ab73...         3823.7            1.0   \n",
       "95        1084  https://opensea.io/assets/0xd6f4a923e2ecd9ab73...         3823.7            1.0   \n",
       "469       1431  https://opensea.io/assets/0xd6f4a923e2ecd9ab73...         3823.7            1.0   \n",
       "801       1731  https://opensea.io/assets/0xd6f4a923e2ecd9ab73...         3823.7            1.0   \n",
       "\n",
       "      top_bid  num_sales  \n",
       "1572        0          7  \n",
       "1638        0          6  \n",
       "95          0          5  \n",
       "469         0          5  \n",
       "801         0          5  "
      ]
     },
     "execution_count": 8,
     "metadata": {},
     "output_type": "execute_result"
    }
   ],
   "source": [
    "df1.sort_values(by='num_sales',ascending=False).head()"
   ]
  },
  {
   "cell_type": "code",
   "execution_count": 11,
   "id": "6be59103",
   "metadata": {},
   "outputs": [
    {
     "data": {
      "text/plain": [
       "array([[<AxesSubplot:title={'center':'last_sale_usd'}>,\n",
       "        <AxesSubplot:title={'center':'num_sales'}>]], dtype=object)"
      ]
     },
     "execution_count": 11,
     "metadata": {},
     "output_type": "execute_result"
    },
    {
     "data": {
      "image/png": "[encoded data removed]",
      "text/plain": [
       "<Figure size 432x288 with 2 Axes>"
      ]
     },
     "metadata": {
      "needs_background": "light"
     },
     "output_type": "display_data"
    }
   ],
   "source": [
    "df1[['last_sale_usd','num_sales']].hist()"
   ]
  },
  {
   "cell_type": "code",
   "execution_count": null,
   "id": "ae8e682e",
   "metadata": {},
   "outputs": [],
   "source": []
  }
 ],
 "metadata": {
  "kernelspec": {
   "display_name": "Python 3 (ipykernel)",
   "language": "python",
   "name": "python3"
  },
  "language_info": {
   "codemirror_mode": {
    "name": "ipython",
    "version": 3
   },
   "file_extension": ".py",
   "mimetype": "text/x-python",
   "name": "python",
   "nbconvert_exporter": "python",
   "pygments_lexer": "ipython3",
   "version": "3.9.7"
  }
 },
 "nbformat": 4,
 "nbformat_minor": 5
}
